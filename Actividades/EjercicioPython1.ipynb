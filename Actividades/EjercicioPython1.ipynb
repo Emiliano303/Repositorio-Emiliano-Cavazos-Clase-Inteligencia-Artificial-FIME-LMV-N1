{
  "nbformat": 4,
  "nbformat_minor": 0,
  "metadata": {
    "colab": {
      "provenance": []
    },
    "kernelspec": {
      "name": "python3",
      "display_name": "Python 3"
    },
    "language_info": {
      "name": "python"
    }
  },
  "cells": [
    {
      "cell_type": "markdown",
      "source": [
        "# Actividad 2: Ejercicios en Python\n",
        "Emiliano Cavazos Rodriguez 1967273\n",
        "\n",
        "IMTC Clase: LMV *N1*"
      ],
      "metadata": {
        "id": "AQX7EuZWbDJZ"
      }
    },
    {
      "cell_type": "code",
      "execution_count": 58,
      "metadata": {
        "colab": {
          "base_uri": "https://localhost:8080/"
        },
        "id": "80OxNOKFuuEL",
        "outputId": "a064fd13-b948-41bf-a7f5-6815895686f8"
      },
      "outputs": [
        {
          "output_type": "stream",
          "name": "stdout",
          "text": [
            "Ingrese su nombre: Jorge\n",
            "Hola, JorgeBienvenid@\n"
          ]
        }
      ],
      "source": [
        "nombre = input(\"Ingrese su nombre: \")\n",
        "\n",
        "if nombre == \"Ana\" or nombre == \"Juan\" or nombre == \"Pedro\":\n",
        "  print(\"No te puedo saludar\")\n",
        "\n",
        "else:\n",
        "  print(\"Hola, \" + nombre + \" Bienvenid@\")"
      ]
    },
    {
      "cell_type": "code",
      "source": [
        "num_terms = int(input(\"¿Cuántos números de la serie de Fibonacci quieres generar? \"))\n",
        "\n",
        "fibonacci = [0, 1]\n",
        "\n",
        "for i in range(2, num_terms):\n",
        "    next_term = fibonacci[i-1] + fibonacci[i-2]\n",
        "    fibonacci.append(next_term)\n",
        "\n",
        "print(\"Los primeros\", num_terms, \"números de la serie de Fibonacci son:\", fibonacci)"
      ],
      "metadata": {
        "colab": {
          "base_uri": "https://localhost:8080/"
        },
        "id": "7R-_hok-vv04",
        "outputId": "678fdd53-3d44-4d03-c9b9-c7048175741c"
      },
      "execution_count": 42,
      "outputs": [
        {
          "output_type": "stream",
          "name": "stdout",
          "text": [
            "¿Cuántos números de la serie de Fibonacci quieres generar? 7\n",
            "Los primeros 7 números de la serie de Fibonacci son: [0, 1, 1, 2, 3, 5, 8]\n"
          ]
        }
      ]
    },
    {
      "cell_type": "code",
      "source": [
        "def invertir_lista():\n",
        "    n = int(input(\"Ingresa la cantidad de elementos en la lista: \"))\n",
        "    lista = []\n",
        "    for i in range(n):\n",
        "        elemento = input(\"Ingresa un elemento: \")\n",
        "        lista.append(elemento)\n",
        "\n",
        "    lista_invertida = lista[::-1]\n",
        "\n",
        "    print(\"La lista invertida es:\", lista_invertida)"
      ],
      "metadata": {
        "id": "XNgacUKzZ6y1"
      },
      "execution_count": 3,
      "outputs": []
    }
  ]
}